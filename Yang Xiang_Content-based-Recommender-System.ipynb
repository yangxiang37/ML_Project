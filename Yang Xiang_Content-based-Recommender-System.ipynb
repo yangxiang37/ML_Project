{
 "cells": [
  {
   "cell_type": "code",
   "execution_count": 1,
   "metadata": {},
   "outputs": [],
   "source": [
    "import pandas as pd\n",
    "from sklearn.feature_extraction.text import TfidfVectorizer\n",
    "\n",
    "from sklearn.metrics.pairwise import linear_kernel"
   ]
  },
  {
   "cell_type": "markdown",
   "metadata": {},
   "source": [
    "https://heartbeat.fritz.ai/recommender-systems-with-python-part-i-content-based-filtering-5df4940bd831"
   ]
  },
  {
   "cell_type": "code",
   "execution_count": 2,
   "metadata": {},
   "outputs": [
    {
     "data": {
      "text/plain": [
       "'/Users/yangxiang/A List/Uchicago/2020_Spring/Machine_Learning/Project/Submission/Model'"
      ]
     },
     "execution_count": 2,
     "metadata": {},
     "output_type": "execute_result"
    }
   ],
   "source": [
    "import os\n",
    "os.getcwd()"
   ]
  },
  {
   "cell_type": "code",
   "execution_count": 5,
   "metadata": {},
   "outputs": [],
   "source": [
    "import pandas as pd\n",
    "from sklearn.feature_extraction.text import TfidfVectorizer\n",
    "from sklearn.metrics.pairwise import linear_kernel\n",
    "ds = pd.read_csv('/Users/yangxiang/A List/Uchicago/2020_Spring/Machine_Learning/Project/Cocat_review.csv')\n"
   ]
  },
  {
   "cell_type": "code",
   "execution_count": 6,
   "metadata": {},
   "outputs": [],
   "source": [
    "#drop '_id'\n",
    "ds=ds.drop(['_id'], axis=1)"
   ]
  },
  {
   "cell_type": "code",
   "execution_count": 7,
   "metadata": {},
   "outputs": [],
   "source": [
    "#Change _id to numeric number\n",
    "ds['_id'] = ds.index"
   ]
  },
  {
   "cell_type": "markdown",
   "metadata": {},
   "source": [
    "## Creating a TF-IDF Vectorizer\n",
    "The TF*IDF algorithm is used to weigh a keyword in any document and assign the importance to that keyword based on the number of times it appears in the document. Put simply, the higher the TF*IDF score (weight), the rarer and more important the term, and vice versa.\n",
    "* Each word or term has its respective TF and IDF score. \n",
    "* The TF (term frequency) of a word is the number of times it appears in a document. \n",
    "* The IDF (inverse document frequency) of a word is the measure of how significant that term is in the whole corpus."
   ]
  },
  {
   "cell_type": "code",
   "execution_count": 8,
   "metadata": {},
   "outputs": [],
   "source": [
    "tf = TfidfVectorizer(analyzer='word', ngram_range=(1, 3), min_df=0, stop_words='english')\n",
    "tfidf_matrix = tf.fit_transform(ds['as_review'])"
   ]
  },
  {
   "cell_type": "markdown",
   "metadata": {},
   "source": [
    "the tfidf_matrix is the matrix containing each word and its TF-IDF score with regard to each document\n"
   ]
  },
  {
   "cell_type": "markdown",
   "metadata": {},
   "source": [
    "## calculate the relevance or similarity of one document to another."
   ]
  },
  {
   "cell_type": "raw",
   "metadata": {},
   "source": [
    "* Vector Space Model\n",
    "each item (Group of comment about the same business) is stored as a vector of its attributes (which are also vectors) in an n-dimensional space, and the angles between the vectors are calculated to determine the similarity between the vectors."
   ]
  },
  {
   "cell_type": "markdown",
   "metadata": {},
   "source": [
    "The method of calculating the user’s likes / dislikes / measures is calculated by taking the cosine of the angle between the user profile vector (Ui ) and the document vector; or in our case, the angle between two document vectors.\n",
    "The ultimate reason behind using cosine is that the value of cosine will increase as the angle between vectors with decreases, which signifies more similarity."
   ]
  },
  {
   "cell_type": "code",
   "execution_count": 9,
   "metadata": {},
   "outputs": [],
   "source": [
    "cosine_similarities = linear_kernel(tfidf_matrix, tfidf_matrix)\n"
   ]
  },
  {
   "cell_type": "code",
   "execution_count": 10,
   "metadata": {},
   "outputs": [],
   "source": [
    "results = {}\n",
    "\n",
    "for idx, row in ds.iterrows():\n",
    "    similar_indices = cosine_similarities[idx].argsort()[:-100:-1]\n",
    "    similar_items = [(cosine_similarities[idx][i], ds['_id'][i]) for i in similar_indices]\n",
    "\n",
    "    results[row['_id']] = similar_items[1:]"
   ]
  },
  {
   "cell_type": "markdown",
   "metadata": {},
   "source": [
    "we’ve calculated the cosine similarity of each item with every other item in the dataset, and then arranged them according to their similarity with item i, and stored the values in results."
   ]
  },
  {
   "cell_type": "markdown",
   "metadata": {},
   "source": [
    "## Making a recommendation\n"
   ]
  },
  {
   "cell_type": "code",
   "execution_count": 11,
   "metadata": {},
   "outputs": [],
   "source": [
    "def item(id):\n",
    "    return ds.loc[ds['_id'] == id]['name'].tolist()[0].split(' - ')[0]"
   ]
  },
  {
   "cell_type": "code",
   "execution_count": 30,
   "metadata": {},
   "outputs": [],
   "source": [
    "def recommend_tfidf(item_id, num):\n",
    "    print(\"Recommending \" + str(num) + \" products similar to \" + item(item_id) + \"...\")\n",
    "    print(\"-------\")\n",
    "    recs = results[item_id][:num]\n",
    "    for rec in recs:\n",
    "        print(\"Recommended: \" + item(rec[1]) + \" (score:\" + str(rec[0]) + \")\")"
   ]
  },
  {
   "cell_type": "code",
   "execution_count": 31,
   "metadata": {},
   "outputs": [
    {
     "name": "stdout",
     "output_type": "stream",
     "text": [
      "Recommending 5 products similar to Banzai Sushi...\n",
      "-------\n",
      "Recommended: Akaihana Sushi & Grill (score:0.0261583874614779)\n",
      "Recommended: Zenshin Asian Restaurant (score:0.02425661625517246)\n",
      "Recommended: Sushi Ave (score:0.02418907353814648)\n",
      "Recommended: Sushi San (score:0.02363079636706018)\n",
      "Recommended: KUMI by Chef Akira Back (score:0.023542859836310034)\n"
     ]
    }
   ],
   "source": [
    "recommend_tfidf(item_id=17, num=5)"
   ]
  },
  {
   "cell_type": "markdown",
   "metadata": {},
   "source": [
    "## Countervectorizor"
   ]
  },
  {
   "cell_type": "code",
   "execution_count": 24,
   "metadata": {},
   "outputs": [],
   "source": [
    "from sklearn.feature_extraction.text import CountVectorizer\n",
    "cv = CountVectorizer(analyzer='word', ngram_range=(1, 3), min_df=0, stop_words='english')\n",
    "cv_matrix = cv.fit_transform(ds['as_review'])"
   ]
  },
  {
   "cell_type": "code",
   "execution_count": 25,
   "metadata": {},
   "outputs": [],
   "source": [
    "cosine_similarities_cv = linear_kernel(cv_matrix, cv_matrix)"
   ]
  },
  {
   "cell_type": "code",
   "execution_count": 26,
   "metadata": {},
   "outputs": [],
   "source": [
    "results_cv = {}\n",
    "\n",
    "for idx, row in ds.iterrows():\n",
    "    similar_indices_cv = cosine_similarities_cv[idx].argsort()[:-100:-1]\n",
    "    similar_items_cv = [(cosine_similarities_cv[idx][i], ds['_id'][i]) for i in similar_indices_cv]\n",
    "\n",
    "    results_cv[row['_id']] = similar_items_cv[1:]"
   ]
  },
  {
   "cell_type": "code",
   "execution_count": 27,
   "metadata": {},
   "outputs": [],
   "source": [
    "def item_cv(id):\n",
    "    return ds.loc[ds['_id'] == id]['name'].tolist()[0].split(' - ')[0]"
   ]
  },
  {
   "cell_type": "code",
   "execution_count": 28,
   "metadata": {},
   "outputs": [],
   "source": [
    "def recommend_cv(item_id, num):\n",
    "    print(\"Recommending \" + str(num) + \" products similar to \" + item_cv(item_id) + \"...\")\n",
    "    print(\"-------\")\n",
    "    recs = results_cv[item_id][:num]\n",
    "    for rec in recs:\n",
    "        print(\"Recommended: \" + item_cv(rec[1]) + \" (score:\" + str(rec[0]) + \")\")"
   ]
  },
  {
   "cell_type": "markdown",
   "metadata": {},
   "source": [
    "# Compare Models"
   ]
  },
  {
   "cell_type": "code",
   "execution_count": 42,
   "metadata": {
    "scrolled": true
   },
   "outputs": [
    {
     "name": "stdout",
     "output_type": "stream",
     "text": [
      "Recommending 5 products similar to Banzai Sushi...\n",
      "-------\n",
      "Recommended: Flamingo Las Vegas Hotel & Casino (score:7541.0)\n",
      "Recommended: Mesa Grill (score:7038.0)\n",
      "Recommended: Gangnam Asian BBQ Dining (score:4027.0)\n",
      "Recommended: Trump International Hotel Las Vegas (score:3987.0)\n",
      "Recommended: Joe's Farm Grill (score:3964.0)\n"
     ]
    }
   ],
   "source": [
    "recommend_cv(item_id=17, num=5)"
   ]
  },
  {
   "cell_type": "code",
   "execution_count": 43,
   "metadata": {},
   "outputs": [
    {
     "name": "stdout",
     "output_type": "stream",
     "text": [
      "Recommending 5 products similar to Banzai Sushi...\n",
      "-------\n",
      "Recommended: Akaihana Sushi & Grill (score:0.0261583874614779)\n",
      "Recommended: Zenshin Asian Restaurant (score:0.02425661625517246)\n",
      "Recommended: Sushi Ave (score:0.02418907353814648)\n",
      "Recommended: Sushi San (score:0.02363079636706018)\n",
      "Recommended: KUMI by Chef Akira Back (score:0.023542859836310034)\n"
     ]
    }
   ],
   "source": [
    "recommend_tfidf(item_id=17, num=5)"
   ]
  },
  {
   "cell_type": "code",
   "execution_count": 41,
   "metadata": {},
   "outputs": [
    {
     "data": {
      "text/plain": [
       "'[{\\'text\\': \\'UMGS does an amazing job serving the community. They perform quality work and treat all of their customers like family. Highly recommend\\'}, {\\'text\\': \\'I called Connie needing some stuff done on a Saturday. Even though they do not usually work on Saturdays, she was able to send Jacob out on Saturday. Jacob was great! Installed a ceiling fan, window film, a shelf, new thermostat, padlock on the garage and adjusted a wobbly sink faucet. Our Husky decided to escape when Jacob opened the door and Jacob ran after him and caught him and carried all 65 pounds of him back home. I especially like that they are a family business. I work for an insurance agency and will recommend UMGS for sure!\\'}, {\\'text\\': \\'We are selling our home and needed our back facia touched up, sanded and painted. Use My Guy Services came out on the appointment day and on time and got the facia looking brand new. They were able to match the paint and get the job done. I would and do recommend them to everyone. They are amazing.\\'}, {\\'text\\': \\'Great service!!!  Extremely courteous and friendly!! Will definitely use them again!!!\\'}, {\\'text\\': \"The Best! When we moved into a new home three years ago they came out to do a variety of things for us - curtain hanging, furniture building/balance, ceiling fans, fence repairs, installed landscape lighting, etc... Always professional, friendly, reasonably priced, prompt and reliable. I\\'ve recommended them to my friends who have used them & had the same experience. I cannot say enough good things about this company!\"}, {\\'text\\': \\'I am extremely please with the service. John installed pendant lights for us and he was courteous and very friendly. If we need services again, they will be the ones we call!\\'}, {\\'text\\': \\'These folks are FABULOUS!  They are talented in so many areas.  I have had them paint, hang doors, fix faucets and so much more.  Thank you \"Use my guy\" for all your help fixing up our house!\\'}, {\\'text\\': \"Don\\'t know how we would have managed without them.  We live out of state and own a rental in San Tan Valley.  They have installed a new security screen door, water heater, garbage disposal and have repaired numerous things including our in-ground irrigation system.  Their work is great and the prices reasonable.  As a bonus they are so nice to deal with on the phone.\"}, {\\'text\\': \"UMGS came out to my office on super short notice and installed fluorescent light films (which are surprisingly difficult to cut and install). They did an amazing job, were super professional and were fast too! I\\'d highly recommend Use My Guy for any residential or commercial projects you can\\'t handle yourself. They do great work and give back to the local communities here in Arizona as well. Great company!\"}]'"
      ]
     },
     "execution_count": 41,
     "metadata": {},
     "output_type": "execute_result"
    }
   ],
   "source": [
    "# Review Example\n",
    "ds.as_review[1]"
   ]
  },
  {
   "cell_type": "code",
   "execution_count": 45,
   "metadata": {},
   "outputs": [
    {
     "data": {
      "text/plain": [
       "(15095, 13)"
      ]
     },
     "execution_count": 45,
     "metadata": {},
     "output_type": "execute_result"
    }
   ],
   "source": [
    "ds.shape"
   ]
  },
  {
   "cell_type": "code",
   "execution_count": null,
   "metadata": {},
   "outputs": [],
   "source": []
  }
 ],
 "metadata": {
  "kernelspec": {
   "display_name": "Python 3",
   "language": "python",
   "name": "python3"
  },
  "language_info": {
   "codemirror_mode": {
    "name": "ipython",
    "version": 3
   },
   "file_extension": ".py",
   "mimetype": "text/x-python",
   "name": "python",
   "nbconvert_exporter": "python",
   "pygments_lexer": "ipython3",
   "version": "3.7.3"
  }
 },
 "nbformat": 4,
 "nbformat_minor": 2
}

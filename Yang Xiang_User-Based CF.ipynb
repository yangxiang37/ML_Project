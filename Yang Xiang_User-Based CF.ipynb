{
 "cells": [
  {
   "cell_type": "code",
   "execution_count": 12,
   "metadata": {
    "colab": {},
    "colab_type": "code",
    "id": "PH737nD6pZZY"
   },
   "outputs": [],
   "source": [
    "\n",
    "import pandas as pd\n",
    "import numpy as np\n",
    "from sklearn.metrics.pairwise import cosine_similarity\n",
    "from sklearn.metrics import pairwise_distances"
   ]
  },
  {
   "cell_type": "code",
   "execution_count": 5,
   "metadata": {},
   "outputs": [
    {
     "data": {
      "text/plain": [
       "'/home/yangxiang/ML_Project/Model/User_Based_CF'"
      ]
     },
     "execution_count": 5,
     "metadata": {},
     "output_type": "execute_result"
    }
   ],
   "source": [
    "import os \n",
    "os.getcwd()"
   ]
  },
  {
   "cell_type": "markdown",
   "metadata": {
    "colab_type": "text",
    "id": "8MUTy3RopZZg"
   },
   "source": [
    "NMF:\n",
    "    https://surprise.readthedocs.io/en/stable/FAQ.html#how-to-get-the-top-n-recommendations-for-each-user"
   ]
  },
  {
   "cell_type": "markdown",
   "metadata": {
    "colab_type": "text",
    "id": "H95VoByQpZZh"
   },
   "source": [
    "https://medium.com/sfu-cspmp/recommendation-systems-user-based-collaborative-filtering-using-n-nearest-neighbors-bf7361dc24e0"
   ]
  },
  {
   "cell_type": "markdown",
   "metadata": {},
   "source": [
    "\n",
    "https://towardsdatascience.com/how-to-build-a-memory-based-recommendation-system-using-python-surprise-55f3257b2cf4"
   ]
  },
  {
   "cell_type": "markdown",
   "metadata": {},
   "source": [
    "The key difference of memory-based approach from the model-based techniques is that we are not learning any parameter using gradient descent (or any other optimization algorithm). The closest user or items are calculated only by using Cosine similarity or Pearson correlation coefficients, which are only based on arithmetic operations. "
   ]
  },
  {
   "cell_type": "markdown",
   "metadata": {},
   "source": [
    "# Memory Based"
   ]
  },
  {
   "cell_type": "code",
   "execution_count": 6,
   "metadata": {
    "colab": {},
    "colab_type": "code",
    "id": "SQPT7pOopZZj"
   },
   "outputs": [],
   "source": [
    "path='/home/yangxiang/ML_Project/yelp_dataset/'"
   ]
  },
  {
   "cell_type": "code",
   "execution_count": null,
   "metadata": {},
   "outputs": [],
   "source": []
  },
  {
   "cell_type": "code",
   "execution_count": 7,
   "metadata": {
    "colab": {},
    "colab_type": "code",
    "id": "TwvPJ5XopZZp"
   },
   "outputs": [],
   "source": [
    "business_df=pd.read_json(path+'yelp_academic_dataset_business.json',lines=True)"
   ]
  },
  {
   "cell_type": "code",
   "execution_count": 8,
   "metadata": {
    "colab": {},
    "colab_type": "code",
    "id": "plQaPpoMpZZt"
   },
   "outputs": [],
   "source": [
    "#user_df=pd.read_json(path+'yelp_academic_dataset_user.json',lines=True)"
   ]
  },
  {
   "cell_type": "code",
   "execution_count": 9,
   "metadata": {
    "colab": {},
    "colab_type": "code",
    "id": "gS3_LwfrpZZw"
   },
   "outputs": [
    {
     "ename": "KeyboardInterrupt",
     "evalue": "",
     "output_type": "error",
     "traceback": [
      "\u001b[0;31m---------------------------------------------------------------------------\u001b[0m",
      "\u001b[0;31mKeyboardInterrupt\u001b[0m                         Traceback (most recent call last)",
      "\u001b[0;32m/project/msca/ivy2/software/Anaconda3-2019.07/envs/nlp_class/lib/python3.7/site-packages/IPython/core/interactiveshell.py\u001b[0m in \u001b[0;36mrun_code\u001b[0;34m(self, code_obj, result, async_)\u001b[0m\n\u001b[1;32m   3325\u001b[0m                 \u001b[0;32melse\u001b[0m\u001b[0;34m:\u001b[0m\u001b[0;34m\u001b[0m\u001b[0;34m\u001b[0m\u001b[0m\n\u001b[0;32m-> 3326\u001b[0;31m                     \u001b[0mexec\u001b[0m\u001b[0;34m(\u001b[0m\u001b[0mcode_obj\u001b[0m\u001b[0;34m,\u001b[0m \u001b[0mself\u001b[0m\u001b[0;34m.\u001b[0m\u001b[0muser_global_ns\u001b[0m\u001b[0;34m,\u001b[0m \u001b[0mself\u001b[0m\u001b[0;34m.\u001b[0m\u001b[0muser_ns\u001b[0m\u001b[0;34m)\u001b[0m\u001b[0;34m\u001b[0m\u001b[0;34m\u001b[0m\u001b[0m\n\u001b[0m\u001b[1;32m   3327\u001b[0m             \u001b[0;32mfinally\u001b[0m\u001b[0;34m:\u001b[0m\u001b[0;34m\u001b[0m\u001b[0;34m\u001b[0m\u001b[0m\n",
      "\u001b[0;32m<ipython-input-9-e13ed90a44c7>\u001b[0m in \u001b[0;36m<module>\u001b[0;34m\u001b[0m\n\u001b[0;32m----> 1\u001b[0;31m \u001b[0mreview_df\u001b[0m\u001b[0;34m=\u001b[0m\u001b[0mpd\u001b[0m\u001b[0;34m.\u001b[0m\u001b[0mread_json\u001b[0m\u001b[0;34m(\u001b[0m\u001b[0mpath\u001b[0m\u001b[0;34m+\u001b[0m\u001b[0;34m'yelp_academic_dataset_review.json'\u001b[0m\u001b[0;34m,\u001b[0m\u001b[0mlines\u001b[0m\u001b[0;34m=\u001b[0m\u001b[0;32mTrue\u001b[0m\u001b[0;34m)\u001b[0m\u001b[0;34m\u001b[0m\u001b[0;34m\u001b[0m\u001b[0m\n\u001b[0m",
      "\u001b[0;32m/project/msca/ivy2/software/Anaconda3-2019.07/envs/nlp_class/lib/python3.7/site-packages/pandas/io/json/_json.py\u001b[0m in \u001b[0;36mread_json\u001b[0;34m(path_or_buf, orient, typ, dtype, convert_axes, convert_dates, keep_default_dates, numpy, precise_float, date_unit, encoding, lines, chunksize, compression)\u001b[0m\n\u001b[1;32m    591\u001b[0m \u001b[0;34m\u001b[0m\u001b[0m\n\u001b[0;32m--> 592\u001b[0;31m     \u001b[0mresult\u001b[0m \u001b[0;34m=\u001b[0m \u001b[0mjson_reader\u001b[0m\u001b[0;34m.\u001b[0m\u001b[0mread\u001b[0m\u001b[0;34m(\u001b[0m\u001b[0;34m)\u001b[0m\u001b[0;34m\u001b[0m\u001b[0;34m\u001b[0m\u001b[0m\n\u001b[0m\u001b[1;32m    593\u001b[0m     \u001b[0;32mif\u001b[0m \u001b[0mshould_close\u001b[0m\u001b[0;34m:\u001b[0m\u001b[0;34m\u001b[0m\u001b[0;34m\u001b[0m\u001b[0m\n",
      "\u001b[0;32m/project/msca/ivy2/software/Anaconda3-2019.07/envs/nlp_class/lib/python3.7/site-packages/pandas/io/json/_json.py\u001b[0m in \u001b[0;36mread\u001b[0;34m(self)\u001b[0m\n\u001b[1;32m    714\u001b[0m             \u001b[0mdata\u001b[0m \u001b[0;34m=\u001b[0m \u001b[0mensure_str\u001b[0m\u001b[0;34m(\u001b[0m\u001b[0mself\u001b[0m\u001b[0;34m.\u001b[0m\u001b[0mdata\u001b[0m\u001b[0;34m)\u001b[0m\u001b[0;34m\u001b[0m\u001b[0;34m\u001b[0m\u001b[0m\n\u001b[0;32m--> 715\u001b[0;31m             \u001b[0mobj\u001b[0m \u001b[0;34m=\u001b[0m \u001b[0mself\u001b[0m\u001b[0;34m.\u001b[0m\u001b[0m_get_object_parser\u001b[0m\u001b[0;34m(\u001b[0m\u001b[0mself\u001b[0m\u001b[0;34m.\u001b[0m\u001b[0m_combine_lines\u001b[0m\u001b[0;34m(\u001b[0m\u001b[0mdata\u001b[0m\u001b[0;34m.\u001b[0m\u001b[0msplit\u001b[0m\u001b[0;34m(\u001b[0m\u001b[0;34m\"\\n\"\u001b[0m\u001b[0;34m)\u001b[0m\u001b[0;34m)\u001b[0m\u001b[0;34m)\u001b[0m\u001b[0;34m\u001b[0m\u001b[0;34m\u001b[0m\u001b[0m\n\u001b[0m\u001b[1;32m    716\u001b[0m         \u001b[0;32melse\u001b[0m\u001b[0;34m:\u001b[0m\u001b[0;34m\u001b[0m\u001b[0;34m\u001b[0m\u001b[0m\n",
      "\u001b[0;32m/project/msca/ivy2/software/Anaconda3-2019.07/envs/nlp_class/lib/python3.7/site-packages/pandas/io/json/_json.py\u001b[0m in \u001b[0;36m_get_object_parser\u001b[0;34m(self, json)\u001b[0m\n\u001b[1;32m    738\u001b[0m         \u001b[0;32mif\u001b[0m \u001b[0mtyp\u001b[0m \u001b[0;34m==\u001b[0m \u001b[0;34m\"frame\"\u001b[0m\u001b[0;34m:\u001b[0m\u001b[0;34m\u001b[0m\u001b[0;34m\u001b[0m\u001b[0m\n\u001b[0;32m--> 739\u001b[0;31m             \u001b[0mobj\u001b[0m \u001b[0;34m=\u001b[0m \u001b[0mFrameParser\u001b[0m\u001b[0;34m(\u001b[0m\u001b[0mjson\u001b[0m\u001b[0;34m,\u001b[0m \u001b[0;34m**\u001b[0m\u001b[0mkwargs\u001b[0m\u001b[0;34m)\u001b[0m\u001b[0;34m.\u001b[0m\u001b[0mparse\u001b[0m\u001b[0;34m(\u001b[0m\u001b[0;34m)\u001b[0m\u001b[0;34m\u001b[0m\u001b[0;34m\u001b[0m\u001b[0m\n\u001b[0m\u001b[1;32m    740\u001b[0m \u001b[0;34m\u001b[0m\u001b[0m\n",
      "\u001b[0;32m/project/msca/ivy2/software/Anaconda3-2019.07/envs/nlp_class/lib/python3.7/site-packages/pandas/io/json/_json.py\u001b[0m in \u001b[0;36mparse\u001b[0;34m(self)\u001b[0m\n\u001b[1;32m    848\u001b[0m         \u001b[0;32melse\u001b[0m\u001b[0;34m:\u001b[0m\u001b[0;34m\u001b[0m\u001b[0;34m\u001b[0m\u001b[0m\n\u001b[0;32m--> 849\u001b[0;31m             \u001b[0mself\u001b[0m\u001b[0;34m.\u001b[0m\u001b[0m_parse_no_numpy\u001b[0m\u001b[0;34m(\u001b[0m\u001b[0;34m)\u001b[0m\u001b[0;34m\u001b[0m\u001b[0;34m\u001b[0m\u001b[0m\n\u001b[0m\u001b[1;32m    850\u001b[0m \u001b[0;34m\u001b[0m\u001b[0m\n",
      "\u001b[0;32m/project/msca/ivy2/software/Anaconda3-2019.07/envs/nlp_class/lib/python3.7/site-packages/pandas/io/json/_json.py\u001b[0m in \u001b[0;36m_parse_no_numpy\u001b[0;34m(self)\u001b[0m\n\u001b[1;32m   1092\u001b[0m             self.obj = DataFrame(\n\u001b[0;32m-> 1093\u001b[0;31m                 \u001b[0mloads\u001b[0m\u001b[0;34m(\u001b[0m\u001b[0mjson\u001b[0m\u001b[0;34m,\u001b[0m \u001b[0mprecise_float\u001b[0m\u001b[0;34m=\u001b[0m\u001b[0mself\u001b[0m\u001b[0;34m.\u001b[0m\u001b[0mprecise_float\u001b[0m\u001b[0;34m)\u001b[0m\u001b[0;34m,\u001b[0m \u001b[0mdtype\u001b[0m\u001b[0;34m=\u001b[0m\u001b[0;32mNone\u001b[0m\u001b[0;34m\u001b[0m\u001b[0;34m\u001b[0m\u001b[0m\n\u001b[0m\u001b[1;32m   1094\u001b[0m             )\n",
      "\u001b[0;31mKeyboardInterrupt\u001b[0m: ",
      "\nDuring handling of the above exception, another exception occurred:\n",
      "\u001b[0;31mKeyboardInterrupt\u001b[0m                         Traceback (most recent call last)",
      "\u001b[0;31mKeyboardInterrupt\u001b[0m: "
     ]
    }
   ],
   "source": [
    "review_df=pd.read_json(path+'yelp_academic_dataset_review.json',lines=True)"
   ]
  },
  {
   "cell_type": "code",
   "execution_count": null,
   "metadata": {
    "colab": {},
    "colab_type": "code",
    "id": "zwZPR78ypZZ1",
    "outputId": "2261a87d-ba71-4217-c747-62d25f4cd7a0"
   },
   "outputs": [],
   "source": [
    "business_df.shape"
   ]
  },
  {
   "cell_type": "code",
   "execution_count": null,
   "metadata": {
    "colab": {},
    "colab_type": "code",
    "id": "A_j_sEZFpZZ6"
   },
   "outputs": [],
   "source": []
  },
  {
   "cell_type": "code",
   "execution_count": null,
   "metadata": {
    "colab": {},
    "colab_type": "code",
    "id": "O_wVx8dHpZZ9"
   },
   "outputs": [],
   "source": [
    "#user_df.shape"
   ]
  },
  {
   "cell_type": "code",
   "execution_count": null,
   "metadata": {
    "colab": {},
    "colab_type": "code",
    "id": "u9AWX_wlpZaA",
    "outputId": "0f1a4910-1fa5-42e2-c034-c45b8f46e6a1"
   },
   "outputs": [],
   "source": [
    "review_df.shape"
   ]
  },
  {
   "cell_type": "code",
   "execution_count": null,
   "metadata": {
    "colab": {},
    "colab_type": "code",
    "id": "pr5Szx-EpZaF",
    "outputId": "d02897c4-76a6-48ef-cad5-133fc19d99aa"
   },
   "outputs": [],
   "source": [
    "business_df['city'].value_counts()"
   ]
  },
  {
   "cell_type": "code",
   "execution_count": null,
   "metadata": {
    "colab": {},
    "colab_type": "code",
    "id": "ZQ7z_AIrpZaH",
    "outputId": "d56963ae-d6ee-42ae-9335-f9c84bf8db1b"
   },
   "outputs": [],
   "source": [
    "business_df['state'].value_counts()"
   ]
  },
  {
   "cell_type": "code",
   "execution_count": null,
   "metadata": {
    "colab": {},
    "colab_type": "code",
    "id": "JdbSdWiApZaK"
   },
   "outputs": [],
   "source": [
    "#choose only Las Vegas and create business_LV dataframe\n",
    "business_LV_df=business_df[business_df['city']=='Las Vegas']"
   ]
  },
  {
   "cell_type": "code",
   "execution_count": null,
   "metadata": {
    "colab": {},
    "colab_type": "code",
    "id": "SESB33c9pZaO",
    "outputId": "248eefd6-ace7-4d72-e558-1776eb09bf22"
   },
   "outputs": [],
   "source": [
    "business_LV_df.shape"
   ]
  },
  {
   "cell_type": "code",
   "execution_count": null,
   "metadata": {
    "colab": {},
    "colab_type": "code",
    "id": "bIQKkpdNpZaT"
   },
   "outputs": [],
   "source": [
    "# Leave only business id and name column in business_LV dataframe\n",
    "business_LV_df=business_LV_df[['business_id','name']]"
   ]
  },
  {
   "cell_type": "code",
   "execution_count": null,
   "metadata": {
    "colab": {},
    "colab_type": "code",
    "id": "UWj68baEpZaY"
   },
   "outputs": [],
   "source": [
    "# Leave only user_id','stars','business_id' column in review_df dataframe\n",
    "review_df=review_df[['user_id','stars','business_id']]"
   ]
  },
  {
   "cell_type": "code",
   "execution_count": null,
   "metadata": {
    "colab": {},
    "colab_type": "code",
    "id": "Vu_Eq0sMpZab"
   },
   "outputs": [],
   "source": [
    "#merge business_LV_df and reviews\n",
    "UBCF_data=pd.merge(business_LV_df,review_df, how='left', on='business_id')"
   ]
  },
  {
   "cell_type": "code",
   "execution_count": null,
   "metadata": {
    "colab": {},
    "colab_type": "code",
    "id": "APeAtNMIpZad"
   },
   "outputs": [],
   "source": [
    "#Randomly Select 80000 data \n",
    "UBCF_data=UBCF_data.sample(n=80000)"
   ]
  },
  {
   "cell_type": "code",
   "execution_count": null,
   "metadata": {
    "colab": {},
    "colab_type": "code",
    "id": "Njd-24RPpZaf"
   },
   "outputs": [],
   "source": [
    "#Export Data as csv file \n",
    "UBCF_data.to_csv(r'UBCF_data.csv', index = False)"
   ]
  },
  {
   "cell_type": "code",
   "execution_count": 13,
   "metadata": {
    "colab": {},
    "colab_type": "code",
    "id": "t6raE4gBpZah"
   },
   "outputs": [],
   "source": [
    "#Read data\n",
    "UBCF_data=pd.read_csv('//home/yangxiang/ML_Project/UBCF_data.csv')"
   ]
  },
  {
   "cell_type": "code",
   "execution_count": 14,
   "metadata": {},
   "outputs": [
    {
     "data": {
      "text/html": [
       "<div>\n",
       "<style scoped>\n",
       "    .dataframe tbody tr th:only-of-type {\n",
       "        vertical-align: middle;\n",
       "    }\n",
       "\n",
       "    .dataframe tbody tr th {\n",
       "        vertical-align: top;\n",
       "    }\n",
       "\n",
       "    .dataframe thead th {\n",
       "        text-align: right;\n",
       "    }\n",
       "</style>\n",
       "<table border=\"1\" class=\"dataframe\">\n",
       "  <thead>\n",
       "    <tr style=\"text-align: right;\">\n",
       "      <th></th>\n",
       "      <th>business_id</th>\n",
       "      <th>name</th>\n",
       "      <th>user_id</th>\n",
       "      <th>stars</th>\n",
       "    </tr>\n",
       "  </thead>\n",
       "  <tbody>\n",
       "    <tr>\n",
       "      <td>0</td>\n",
       "      <td>Gh8L5vvZC7v8KtICjNYugw</td>\n",
       "      <td>Enso Tea Bar</td>\n",
       "      <td>gi10Atz0Y_FvCDFHY2cx9Q</td>\n",
       "      <td>3</td>\n",
       "    </tr>\n",
       "    <tr>\n",
       "      <td>1</td>\n",
       "      <td>O_6zhr9_r49cgw1r5nJIwA</td>\n",
       "      <td>Turnt Up Tours</td>\n",
       "      <td>YshOhshfgyD86PwzaTrq_A</td>\n",
       "      <td>5</td>\n",
       "    </tr>\n",
       "    <tr>\n",
       "      <td>2</td>\n",
       "      <td>q0rAq1YMqm44ku2ihk747Q</td>\n",
       "      <td>Surefire Pest Control</td>\n",
       "      <td>7oevgQOu2bJFU1n5oM7dOg</td>\n",
       "      <td>5</td>\n",
       "    </tr>\n",
       "    <tr>\n",
       "      <td>3</td>\n",
       "      <td>PaKG_CtfPbjWQUcdro81rw</td>\n",
       "      <td>Drai's After Hours</td>\n",
       "      <td>SoNbQ4PpFFGbd52pv3bKFQ</td>\n",
       "      <td>5</td>\n",
       "    </tr>\n",
       "    <tr>\n",
       "      <td>4</td>\n",
       "      <td>BcW7Z9lPmOB_8eS2lEuOqQ</td>\n",
       "      <td>Musashi Japanese Steakhouse</td>\n",
       "      <td>r0PIAIRRsaxpF7z9SRCT1g</td>\n",
       "      <td>5</td>\n",
       "    </tr>\n",
       "  </tbody>\n",
       "</table>\n",
       "</div>"
      ],
      "text/plain": [
       "              business_id                         name  \\\n",
       "0  Gh8L5vvZC7v8KtICjNYugw                 Enso Tea Bar   \n",
       "1  O_6zhr9_r49cgw1r5nJIwA               Turnt Up Tours   \n",
       "2  q0rAq1YMqm44ku2ihk747Q        Surefire Pest Control   \n",
       "3  PaKG_CtfPbjWQUcdro81rw           Drai's After Hours   \n",
       "4  BcW7Z9lPmOB_8eS2lEuOqQ  Musashi Japanese Steakhouse   \n",
       "\n",
       "                  user_id  stars  \n",
       "0  gi10Atz0Y_FvCDFHY2cx9Q      3  \n",
       "1  YshOhshfgyD86PwzaTrq_A      5  \n",
       "2  7oevgQOu2bJFU1n5oM7dOg      5  \n",
       "3  SoNbQ4PpFFGbd52pv3bKFQ      5  \n",
       "4  r0PIAIRRsaxpF7z9SRCT1g      5  "
      ]
     },
     "execution_count": 14,
     "metadata": {},
     "output_type": "execute_result"
    }
   ],
   "source": [
    "UBCF_data.head(5)"
   ]
  },
  {
   "cell_type": "code",
   "execution_count": 15,
   "metadata": {
    "colab": {},
    "colab_type": "code",
    "id": "Xn_iR1d8pZaj"
   },
   "outputs": [],
   "source": [
    "#Randomly Select 200 data \n",
    "#UBCF_data=UBCF_data.sample(n=200)"
   ]
  },
  {
   "cell_type": "code",
   "execution_count": 16,
   "metadata": {
    "colab": {},
    "colab_type": "code",
    "id": "e0EuKohepZal"
   },
   "outputs": [],
   "source": [
    "UBCF_data['business_id']=UBCF_data['business_id'].apply(hash)"
   ]
  },
  {
   "cell_type": "code",
   "execution_count": 17,
   "metadata": {
    "colab": {},
    "colab_type": "code",
    "id": "qdCyIm3fpZan"
   },
   "outputs": [],
   "source": [
    "UBCF_data['user_id']=UBCF_data['user_id'].apply(hash)"
   ]
  },
  {
   "cell_type": "code",
   "execution_count": 18,
   "metadata": {
    "colab": {},
    "colab_type": "code",
    "id": "njePOh3xpZap"
   },
   "outputs": [],
   "source": [
    "business=UBCF_data[['business_id','name']]"
   ]
  },
  {
   "cell_type": "code",
   "execution_count": 19,
   "metadata": {
    "colab": {},
    "colab_type": "code",
    "id": "ETFPzl6zpZar"
   },
   "outputs": [],
   "source": [
    "business=business.rename(columns={\"business_id\": \"business_id\", \"name\": \"title\"})\n"
   ]
  },
  {
   "cell_type": "code",
   "execution_count": 20,
   "metadata": {
    "colab": {
     "base_uri": "https://localhost:8080/",
     "height": 204
    },
    "colab_type": "code",
    "executionInfo": {
     "elapsed": 320,
     "status": "ok",
     "timestamp": 1590762236033,
     "user": {
      "displayName": "Yang Xiang",
      "photoUrl": "",
      "userId": "06231716625291255010"
     },
     "user_tz": 300
    },
    "id": "SWs3zE2OpZat",
    "outputId": "4dc9577f-dabf-4c32-a266-d63702f2b207"
   },
   "outputs": [
    {
     "data": {
      "text/html": [
       "<div>\n",
       "<style scoped>\n",
       "    .dataframe tbody tr th:only-of-type {\n",
       "        vertical-align: middle;\n",
       "    }\n",
       "\n",
       "    .dataframe tbody tr th {\n",
       "        vertical-align: top;\n",
       "    }\n",
       "\n",
       "    .dataframe thead th {\n",
       "        text-align: right;\n",
       "    }\n",
       "</style>\n",
       "<table border=\"1\" class=\"dataframe\">\n",
       "  <thead>\n",
       "    <tr style=\"text-align: right;\">\n",
       "      <th></th>\n",
       "      <th>business_id</th>\n",
       "      <th>title</th>\n",
       "    </tr>\n",
       "  </thead>\n",
       "  <tbody>\n",
       "    <tr>\n",
       "      <td>0</td>\n",
       "      <td>985046985895203881</td>\n",
       "      <td>Enso Tea Bar</td>\n",
       "    </tr>\n",
       "    <tr>\n",
       "      <td>1</td>\n",
       "      <td>1786073356298238185</td>\n",
       "      <td>Turnt Up Tours</td>\n",
       "    </tr>\n",
       "    <tr>\n",
       "      <td>2</td>\n",
       "      <td>-1160420471496825915</td>\n",
       "      <td>Surefire Pest Control</td>\n",
       "    </tr>\n",
       "    <tr>\n",
       "      <td>3</td>\n",
       "      <td>7558323575540190489</td>\n",
       "      <td>Drai's After Hours</td>\n",
       "    </tr>\n",
       "    <tr>\n",
       "      <td>4</td>\n",
       "      <td>6842406612477306789</td>\n",
       "      <td>Musashi Japanese Steakhouse</td>\n",
       "    </tr>\n",
       "  </tbody>\n",
       "</table>\n",
       "</div>"
      ],
      "text/plain": [
       "           business_id                        title\n",
       "0   985046985895203881                 Enso Tea Bar\n",
       "1  1786073356298238185               Turnt Up Tours\n",
       "2 -1160420471496825915        Surefire Pest Control\n",
       "3  7558323575540190489           Drai's After Hours\n",
       "4  6842406612477306789  Musashi Japanese Steakhouse"
      ]
     },
     "execution_count": 20,
     "metadata": {},
     "output_type": "execute_result"
    }
   ],
   "source": [
    "business.head()"
   ]
  },
  {
   "cell_type": "code",
   "execution_count": 21,
   "metadata": {
    "colab": {
     "base_uri": "https://localhost:8080/",
     "height": 215
    },
    "colab_type": "code",
    "executionInfo": {
     "elapsed": 256,
     "status": "error",
     "timestamp": 1590762329342,
     "user": {
      "displayName": "Yang Xiang",
      "photoUrl": "",
      "userId": "06231716625291255010"
     },
     "user_tz": 300
    },
    "id": "8NyPx4fApZav",
    "outputId": "e4f7b51e-9f5d-4707-cf5d-c0a661a2da99"
   },
   "outputs": [
    {
     "data": {
      "text/html": [
       "<div>\n",
       "<style scoped>\n",
       "    .dataframe tbody tr th:only-of-type {\n",
       "        vertical-align: middle;\n",
       "    }\n",
       "\n",
       "    .dataframe tbody tr th {\n",
       "        vertical-align: top;\n",
       "    }\n",
       "\n",
       "    .dataframe thead th {\n",
       "        text-align: right;\n",
       "    }\n",
       "</style>\n",
       "<table border=\"1\" class=\"dataframe\">\n",
       "  <thead>\n",
       "    <tr style=\"text-align: right;\">\n",
       "      <th></th>\n",
       "      <th>business_id</th>\n",
       "      <th>name</th>\n",
       "      <th>user_id</th>\n",
       "      <th>stars_x</th>\n",
       "      <th>stars_y</th>\n",
       "      <th>adg_rating</th>\n",
       "    </tr>\n",
       "  </thead>\n",
       "  <tbody>\n",
       "    <tr>\n",
       "      <td>0</td>\n",
       "      <td>985046985895203881</td>\n",
       "      <td>Enso Tea Bar</td>\n",
       "      <td>892498043486122473</td>\n",
       "      <td>3</td>\n",
       "      <td>4.0</td>\n",
       "      <td>-1.0</td>\n",
       "    </tr>\n",
       "    <tr>\n",
       "      <td>1</td>\n",
       "      <td>2188648278942301092</td>\n",
       "      <td>Infused Tea Lounge</td>\n",
       "      <td>892498043486122473</td>\n",
       "      <td>5</td>\n",
       "      <td>4.0</td>\n",
       "      <td>1.0</td>\n",
       "    </tr>\n",
       "    <tr>\n",
       "      <td>2</td>\n",
       "      <td>1786073356298238185</td>\n",
       "      <td>Turnt Up Tours</td>\n",
       "      <td>2113000159721549545</td>\n",
       "      <td>5</td>\n",
       "      <td>5.0</td>\n",
       "      <td>0.0</td>\n",
       "    </tr>\n",
       "    <tr>\n",
       "      <td>3</td>\n",
       "      <td>-1160420471496825915</td>\n",
       "      <td>Surefire Pest Control</td>\n",
       "      <td>-3472411298139621908</td>\n",
       "      <td>5</td>\n",
       "      <td>5.0</td>\n",
       "      <td>0.0</td>\n",
       "    </tr>\n",
       "    <tr>\n",
       "      <td>4</td>\n",
       "      <td>7558323575540190489</td>\n",
       "      <td>Drai's After Hours</td>\n",
       "      <td>-5588864271865519772</td>\n",
       "      <td>5</td>\n",
       "      <td>5.0</td>\n",
       "      <td>0.0</td>\n",
       "    </tr>\n",
       "  </tbody>\n",
       "</table>\n",
       "</div>"
      ],
      "text/plain": [
       "           business_id                   name              user_id  stars_x  \\\n",
       "0   985046985895203881           Enso Tea Bar   892498043486122473        3   \n",
       "1  2188648278942301092     Infused Tea Lounge   892498043486122473        5   \n",
       "2  1786073356298238185         Turnt Up Tours  2113000159721549545        5   \n",
       "3 -1160420471496825915  Surefire Pest Control -3472411298139621908        5   \n",
       "4  7558323575540190489     Drai's After Hours -5588864271865519772        5   \n",
       "\n",
       "   stars_y  adg_rating  \n",
       "0      4.0        -1.0  \n",
       "1      4.0         1.0  \n",
       "2      5.0         0.0  \n",
       "3      5.0         0.0  \n",
       "4      5.0         0.0  "
      ]
     },
     "execution_count": 21,
     "metadata": {},
     "output_type": "execute_result"
    }
   ],
   "source": [
    "Mean = UBCF_data.groupby(by=\"user_id\",as_index=False)['stars'].mean()\n",
    "Rating_avg = pd.merge(UBCF_data,Mean,on='user_id')\n",
    "Rating_avg['adg_rating']=Rating_avg['stars_x']-Rating_avg['stars_y']\n",
    "Rating_avg.head()"
   ]
  },
  {
   "cell_type": "code",
   "execution_count": 22,
   "metadata": {
    "colab": {},
    "colab_type": "code",
    "id": "-NP02u9IpZax"
   },
   "outputs": [
    {
     "data": {
      "text/html": [
       "<div>\n",
       "<style scoped>\n",
       "    .dataframe tbody tr th:only-of-type {\n",
       "        vertical-align: middle;\n",
       "    }\n",
       "\n",
       "    .dataframe tbody tr th {\n",
       "        vertical-align: top;\n",
       "    }\n",
       "\n",
       "    .dataframe thead th {\n",
       "        text-align: right;\n",
       "    }\n",
       "</style>\n",
       "<table border=\"1\" class=\"dataframe\">\n",
       "  <thead>\n",
       "    <tr style=\"text-align: right;\">\n",
       "      <th>business_id</th>\n",
       "      <th>-9222041889850809589</th>\n",
       "      <th>-9221522642467167166</th>\n",
       "      <th>-9220134465678092017</th>\n",
       "      <th>-9219285732096988637</th>\n",
       "      <th>-9217078650247886585</th>\n",
       "      <th>-9216768140510465531</th>\n",
       "      <th>-9216236901169976752</th>\n",
       "      <th>-9214274581796385693</th>\n",
       "      <th>-9213885022387420556</th>\n",
       "      <th>-9212047259814140719</th>\n",
       "      <th>...</th>\n",
       "      <th>9205594944577506285</th>\n",
       "      <th>9209806749732561023</th>\n",
       "      <th>9213077406576584359</th>\n",
       "      <th>9214010492506917922</th>\n",
       "      <th>9214539254584928025</th>\n",
       "      <th>9215038036734564861</th>\n",
       "      <th>9217085367176827986</th>\n",
       "      <th>9217959426814947615</th>\n",
       "      <th>9218019321615823294</th>\n",
       "      <th>9219566919259808181</th>\n",
       "    </tr>\n",
       "    <tr>\n",
       "      <th>user_id</th>\n",
       "      <th></th>\n",
       "      <th></th>\n",
       "      <th></th>\n",
       "      <th></th>\n",
       "      <th></th>\n",
       "      <th></th>\n",
       "      <th></th>\n",
       "      <th></th>\n",
       "      <th></th>\n",
       "      <th></th>\n",
       "      <th></th>\n",
       "      <th></th>\n",
       "      <th></th>\n",
       "      <th></th>\n",
       "      <th></th>\n",
       "      <th></th>\n",
       "      <th></th>\n",
       "      <th></th>\n",
       "      <th></th>\n",
       "      <th></th>\n",
       "      <th></th>\n",
       "    </tr>\n",
       "  </thead>\n",
       "  <tbody>\n",
       "    <tr>\n",
       "      <td>-9223359662055357883</td>\n",
       "      <td>NaN</td>\n",
       "      <td>NaN</td>\n",
       "      <td>NaN</td>\n",
       "      <td>NaN</td>\n",
       "      <td>NaN</td>\n",
       "      <td>NaN</td>\n",
       "      <td>NaN</td>\n",
       "      <td>NaN</td>\n",
       "      <td>NaN</td>\n",
       "      <td>NaN</td>\n",
       "      <td>...</td>\n",
       "      <td>NaN</td>\n",
       "      <td>NaN</td>\n",
       "      <td>NaN</td>\n",
       "      <td>NaN</td>\n",
       "      <td>NaN</td>\n",
       "      <td>NaN</td>\n",
       "      <td>NaN</td>\n",
       "      <td>NaN</td>\n",
       "      <td>NaN</td>\n",
       "      <td>NaN</td>\n",
       "    </tr>\n",
       "    <tr>\n",
       "      <td>-9223304194009471738</td>\n",
       "      <td>NaN</td>\n",
       "      <td>NaN</td>\n",
       "      <td>NaN</td>\n",
       "      <td>NaN</td>\n",
       "      <td>NaN</td>\n",
       "      <td>NaN</td>\n",
       "      <td>NaN</td>\n",
       "      <td>NaN</td>\n",
       "      <td>NaN</td>\n",
       "      <td>NaN</td>\n",
       "      <td>...</td>\n",
       "      <td>NaN</td>\n",
       "      <td>NaN</td>\n",
       "      <td>NaN</td>\n",
       "      <td>NaN</td>\n",
       "      <td>NaN</td>\n",
       "      <td>NaN</td>\n",
       "      <td>NaN</td>\n",
       "      <td>NaN</td>\n",
       "      <td>NaN</td>\n",
       "      <td>NaN</td>\n",
       "    </tr>\n",
       "    <tr>\n",
       "      <td>-9222886279178806123</td>\n",
       "      <td>NaN</td>\n",
       "      <td>NaN</td>\n",
       "      <td>NaN</td>\n",
       "      <td>NaN</td>\n",
       "      <td>NaN</td>\n",
       "      <td>NaN</td>\n",
       "      <td>NaN</td>\n",
       "      <td>NaN</td>\n",
       "      <td>NaN</td>\n",
       "      <td>NaN</td>\n",
       "      <td>...</td>\n",
       "      <td>NaN</td>\n",
       "      <td>NaN</td>\n",
       "      <td>NaN</td>\n",
       "      <td>NaN</td>\n",
       "      <td>NaN</td>\n",
       "      <td>NaN</td>\n",
       "      <td>NaN</td>\n",
       "      <td>NaN</td>\n",
       "      <td>NaN</td>\n",
       "      <td>NaN</td>\n",
       "    </tr>\n",
       "    <tr>\n",
       "      <td>-9222866561410264378</td>\n",
       "      <td>NaN</td>\n",
       "      <td>NaN</td>\n",
       "      <td>NaN</td>\n",
       "      <td>NaN</td>\n",
       "      <td>NaN</td>\n",
       "      <td>NaN</td>\n",
       "      <td>NaN</td>\n",
       "      <td>NaN</td>\n",
       "      <td>NaN</td>\n",
       "      <td>NaN</td>\n",
       "      <td>...</td>\n",
       "      <td>NaN</td>\n",
       "      <td>NaN</td>\n",
       "      <td>NaN</td>\n",
       "      <td>NaN</td>\n",
       "      <td>NaN</td>\n",
       "      <td>NaN</td>\n",
       "      <td>NaN</td>\n",
       "      <td>NaN</td>\n",
       "      <td>NaN</td>\n",
       "      <td>NaN</td>\n",
       "    </tr>\n",
       "    <tr>\n",
       "      <td>-9222732293397718434</td>\n",
       "      <td>NaN</td>\n",
       "      <td>NaN</td>\n",
       "      <td>NaN</td>\n",
       "      <td>NaN</td>\n",
       "      <td>NaN</td>\n",
       "      <td>NaN</td>\n",
       "      <td>NaN</td>\n",
       "      <td>NaN</td>\n",
       "      <td>NaN</td>\n",
       "      <td>NaN</td>\n",
       "      <td>...</td>\n",
       "      <td>NaN</td>\n",
       "      <td>NaN</td>\n",
       "      <td>NaN</td>\n",
       "      <td>NaN</td>\n",
       "      <td>NaN</td>\n",
       "      <td>NaN</td>\n",
       "      <td>NaN</td>\n",
       "      <td>NaN</td>\n",
       "      <td>NaN</td>\n",
       "      <td>NaN</td>\n",
       "    </tr>\n",
       "  </tbody>\n",
       "</table>\n",
       "<p>5 rows × 15306 columns</p>\n",
       "</div>"
      ],
      "text/plain": [
       "business_id           -9222041889850809589  -9221522642467167166  \\\n",
       "user_id                                                            \n",
       "-9223359662055357883                   NaN                   NaN   \n",
       "-9223304194009471738                   NaN                   NaN   \n",
       "-9222886279178806123                   NaN                   NaN   \n",
       "-9222866561410264378                   NaN                   NaN   \n",
       "-9222732293397718434                   NaN                   NaN   \n",
       "\n",
       "business_id           -9220134465678092017  -9219285732096988637  \\\n",
       "user_id                                                            \n",
       "-9223359662055357883                   NaN                   NaN   \n",
       "-9223304194009471738                   NaN                   NaN   \n",
       "-9222886279178806123                   NaN                   NaN   \n",
       "-9222866561410264378                   NaN                   NaN   \n",
       "-9222732293397718434                   NaN                   NaN   \n",
       "\n",
       "business_id           -9217078650247886585  -9216768140510465531  \\\n",
       "user_id                                                            \n",
       "-9223359662055357883                   NaN                   NaN   \n",
       "-9223304194009471738                   NaN                   NaN   \n",
       "-9222886279178806123                   NaN                   NaN   \n",
       "-9222866561410264378                   NaN                   NaN   \n",
       "-9222732293397718434                   NaN                   NaN   \n",
       "\n",
       "business_id           -9216236901169976752  -9214274581796385693  \\\n",
       "user_id                                                            \n",
       "-9223359662055357883                   NaN                   NaN   \n",
       "-9223304194009471738                   NaN                   NaN   \n",
       "-9222886279178806123                   NaN                   NaN   \n",
       "-9222866561410264378                   NaN                   NaN   \n",
       "-9222732293397718434                   NaN                   NaN   \n",
       "\n",
       "business_id           -9213885022387420556  -9212047259814140719  ...  \\\n",
       "user_id                                                           ...   \n",
       "-9223359662055357883                   NaN                   NaN  ...   \n",
       "-9223304194009471738                   NaN                   NaN  ...   \n",
       "-9222886279178806123                   NaN                   NaN  ...   \n",
       "-9222866561410264378                   NaN                   NaN  ...   \n",
       "-9222732293397718434                   NaN                   NaN  ...   \n",
       "\n",
       "business_id            9205594944577506285   9209806749732561023  \\\n",
       "user_id                                                            \n",
       "-9223359662055357883                   NaN                   NaN   \n",
       "-9223304194009471738                   NaN                   NaN   \n",
       "-9222886279178806123                   NaN                   NaN   \n",
       "-9222866561410264378                   NaN                   NaN   \n",
       "-9222732293397718434                   NaN                   NaN   \n",
       "\n",
       "business_id            9213077406576584359   9214010492506917922  \\\n",
       "user_id                                                            \n",
       "-9223359662055357883                   NaN                   NaN   \n",
       "-9223304194009471738                   NaN                   NaN   \n",
       "-9222886279178806123                   NaN                   NaN   \n",
       "-9222866561410264378                   NaN                   NaN   \n",
       "-9222732293397718434                   NaN                   NaN   \n",
       "\n",
       "business_id            9214539254584928025   9215038036734564861  \\\n",
       "user_id                                                            \n",
       "-9223359662055357883                   NaN                   NaN   \n",
       "-9223304194009471738                   NaN                   NaN   \n",
       "-9222886279178806123                   NaN                   NaN   \n",
       "-9222866561410264378                   NaN                   NaN   \n",
       "-9222732293397718434                   NaN                   NaN   \n",
       "\n",
       "business_id            9217085367176827986   9217959426814947615  \\\n",
       "user_id                                                            \n",
       "-9223359662055357883                   NaN                   NaN   \n",
       "-9223304194009471738                   NaN                   NaN   \n",
       "-9222886279178806123                   NaN                   NaN   \n",
       "-9222866561410264378                   NaN                   NaN   \n",
       "-9222732293397718434                   NaN                   NaN   \n",
       "\n",
       "business_id            9218019321615823294   9219566919259808181  \n",
       "user_id                                                           \n",
       "-9223359662055357883                   NaN                   NaN  \n",
       "-9223304194009471738                   NaN                   NaN  \n",
       "-9222886279178806123                   NaN                   NaN  \n",
       "-9222866561410264378                   NaN                   NaN  \n",
       "-9222732293397718434                   NaN                   NaN  \n",
       "\n",
       "[5 rows x 15306 columns]"
      ]
     },
     "execution_count": 22,
     "metadata": {},
     "output_type": "execute_result"
    }
   ],
   "source": [
    "check = pd.pivot_table(Rating_avg,values='stars_x',index='user_id',columns='business_id')\n",
    "check.head()"
   ]
  },
  {
   "cell_type": "code",
   "execution_count": 23,
   "metadata": {
    "colab": {},
    "colab_type": "code",
    "id": "OVAjoI6LpZaz"
   },
   "outputs": [
    {
     "data": {
      "text/html": [
       "<div>\n",
       "<style scoped>\n",
       "    .dataframe tbody tr th:only-of-type {\n",
       "        vertical-align: middle;\n",
       "    }\n",
       "\n",
       "    .dataframe tbody tr th {\n",
       "        vertical-align: top;\n",
       "    }\n",
       "\n",
       "    .dataframe thead th {\n",
       "        text-align: right;\n",
       "    }\n",
       "</style>\n",
       "<table border=\"1\" class=\"dataframe\">\n",
       "  <thead>\n",
       "    <tr style=\"text-align: right;\">\n",
       "      <th>business_id</th>\n",
       "      <th>-9222041889850809589</th>\n",
       "      <th>-9221522642467167166</th>\n",
       "      <th>-9220134465678092017</th>\n",
       "      <th>-9219285732096988637</th>\n",
       "      <th>-9217078650247886585</th>\n",
       "      <th>-9216768140510465531</th>\n",
       "      <th>-9216236901169976752</th>\n",
       "      <th>-9214274581796385693</th>\n",
       "      <th>-9213885022387420556</th>\n",
       "      <th>-9212047259814140719</th>\n",
       "      <th>...</th>\n",
       "      <th>9205594944577506285</th>\n",
       "      <th>9209806749732561023</th>\n",
       "      <th>9213077406576584359</th>\n",
       "      <th>9214010492506917922</th>\n",
       "      <th>9214539254584928025</th>\n",
       "      <th>9215038036734564861</th>\n",
       "      <th>9217085367176827986</th>\n",
       "      <th>9217959426814947615</th>\n",
       "      <th>9218019321615823294</th>\n",
       "      <th>9219566919259808181</th>\n",
       "    </tr>\n",
       "    <tr>\n",
       "      <th>user_id</th>\n",
       "      <th></th>\n",
       "      <th></th>\n",
       "      <th></th>\n",
       "      <th></th>\n",
       "      <th></th>\n",
       "      <th></th>\n",
       "      <th></th>\n",
       "      <th></th>\n",
       "      <th></th>\n",
       "      <th></th>\n",
       "      <th></th>\n",
       "      <th></th>\n",
       "      <th></th>\n",
       "      <th></th>\n",
       "      <th></th>\n",
       "      <th></th>\n",
       "      <th></th>\n",
       "      <th></th>\n",
       "      <th></th>\n",
       "      <th></th>\n",
       "      <th></th>\n",
       "    </tr>\n",
       "  </thead>\n",
       "  <tbody>\n",
       "    <tr>\n",
       "      <td>-9223359662055357883</td>\n",
       "      <td>NaN</td>\n",
       "      <td>NaN</td>\n",
       "      <td>NaN</td>\n",
       "      <td>NaN</td>\n",
       "      <td>NaN</td>\n",
       "      <td>NaN</td>\n",
       "      <td>NaN</td>\n",
       "      <td>NaN</td>\n",
       "      <td>NaN</td>\n",
       "      <td>NaN</td>\n",
       "      <td>...</td>\n",
       "      <td>NaN</td>\n",
       "      <td>NaN</td>\n",
       "      <td>NaN</td>\n",
       "      <td>NaN</td>\n",
       "      <td>NaN</td>\n",
       "      <td>NaN</td>\n",
       "      <td>NaN</td>\n",
       "      <td>NaN</td>\n",
       "      <td>NaN</td>\n",
       "      <td>NaN</td>\n",
       "    </tr>\n",
       "    <tr>\n",
       "      <td>-9223304194009471738</td>\n",
       "      <td>NaN</td>\n",
       "      <td>NaN</td>\n",
       "      <td>NaN</td>\n",
       "      <td>NaN</td>\n",
       "      <td>NaN</td>\n",
       "      <td>NaN</td>\n",
       "      <td>NaN</td>\n",
       "      <td>NaN</td>\n",
       "      <td>NaN</td>\n",
       "      <td>NaN</td>\n",
       "      <td>...</td>\n",
       "      <td>NaN</td>\n",
       "      <td>NaN</td>\n",
       "      <td>NaN</td>\n",
       "      <td>NaN</td>\n",
       "      <td>NaN</td>\n",
       "      <td>NaN</td>\n",
       "      <td>NaN</td>\n",
       "      <td>NaN</td>\n",
       "      <td>NaN</td>\n",
       "      <td>NaN</td>\n",
       "    </tr>\n",
       "    <tr>\n",
       "      <td>-9222886279178806123</td>\n",
       "      <td>NaN</td>\n",
       "      <td>NaN</td>\n",
       "      <td>NaN</td>\n",
       "      <td>NaN</td>\n",
       "      <td>NaN</td>\n",
       "      <td>NaN</td>\n",
       "      <td>NaN</td>\n",
       "      <td>NaN</td>\n",
       "      <td>NaN</td>\n",
       "      <td>NaN</td>\n",
       "      <td>...</td>\n",
       "      <td>NaN</td>\n",
       "      <td>NaN</td>\n",
       "      <td>NaN</td>\n",
       "      <td>NaN</td>\n",
       "      <td>NaN</td>\n",
       "      <td>NaN</td>\n",
       "      <td>NaN</td>\n",
       "      <td>NaN</td>\n",
       "      <td>NaN</td>\n",
       "      <td>NaN</td>\n",
       "    </tr>\n",
       "    <tr>\n",
       "      <td>-9222866561410264378</td>\n",
       "      <td>NaN</td>\n",
       "      <td>NaN</td>\n",
       "      <td>NaN</td>\n",
       "      <td>NaN</td>\n",
       "      <td>NaN</td>\n",
       "      <td>NaN</td>\n",
       "      <td>NaN</td>\n",
       "      <td>NaN</td>\n",
       "      <td>NaN</td>\n",
       "      <td>NaN</td>\n",
       "      <td>...</td>\n",
       "      <td>NaN</td>\n",
       "      <td>NaN</td>\n",
       "      <td>NaN</td>\n",
       "      <td>NaN</td>\n",
       "      <td>NaN</td>\n",
       "      <td>NaN</td>\n",
       "      <td>NaN</td>\n",
       "      <td>NaN</td>\n",
       "      <td>NaN</td>\n",
       "      <td>NaN</td>\n",
       "    </tr>\n",
       "    <tr>\n",
       "      <td>-9222732293397718434</td>\n",
       "      <td>NaN</td>\n",
       "      <td>NaN</td>\n",
       "      <td>NaN</td>\n",
       "      <td>NaN</td>\n",
       "      <td>NaN</td>\n",
       "      <td>NaN</td>\n",
       "      <td>NaN</td>\n",
       "      <td>NaN</td>\n",
       "      <td>NaN</td>\n",
       "      <td>NaN</td>\n",
       "      <td>...</td>\n",
       "      <td>NaN</td>\n",
       "      <td>NaN</td>\n",
       "      <td>NaN</td>\n",
       "      <td>NaN</td>\n",
       "      <td>NaN</td>\n",
       "      <td>NaN</td>\n",
       "      <td>NaN</td>\n",
       "      <td>NaN</td>\n",
       "      <td>NaN</td>\n",
       "      <td>NaN</td>\n",
       "    </tr>\n",
       "  </tbody>\n",
       "</table>\n",
       "<p>5 rows × 15306 columns</p>\n",
       "</div>"
      ],
      "text/plain": [
       "business_id           -9222041889850809589  -9221522642467167166  \\\n",
       "user_id                                                            \n",
       "-9223359662055357883                   NaN                   NaN   \n",
       "-9223304194009471738                   NaN                   NaN   \n",
       "-9222886279178806123                   NaN                   NaN   \n",
       "-9222866561410264378                   NaN                   NaN   \n",
       "-9222732293397718434                   NaN                   NaN   \n",
       "\n",
       "business_id           -9220134465678092017  -9219285732096988637  \\\n",
       "user_id                                                            \n",
       "-9223359662055357883                   NaN                   NaN   \n",
       "-9223304194009471738                   NaN                   NaN   \n",
       "-9222886279178806123                   NaN                   NaN   \n",
       "-9222866561410264378                   NaN                   NaN   \n",
       "-9222732293397718434                   NaN                   NaN   \n",
       "\n",
       "business_id           -9217078650247886585  -9216768140510465531  \\\n",
       "user_id                                                            \n",
       "-9223359662055357883                   NaN                   NaN   \n",
       "-9223304194009471738                   NaN                   NaN   \n",
       "-9222886279178806123                   NaN                   NaN   \n",
       "-9222866561410264378                   NaN                   NaN   \n",
       "-9222732293397718434                   NaN                   NaN   \n",
       "\n",
       "business_id           -9216236901169976752  -9214274581796385693  \\\n",
       "user_id                                                            \n",
       "-9223359662055357883                   NaN                   NaN   \n",
       "-9223304194009471738                   NaN                   NaN   \n",
       "-9222886279178806123                   NaN                   NaN   \n",
       "-9222866561410264378                   NaN                   NaN   \n",
       "-9222732293397718434                   NaN                   NaN   \n",
       "\n",
       "business_id           -9213885022387420556  -9212047259814140719  ...  \\\n",
       "user_id                                                           ...   \n",
       "-9223359662055357883                   NaN                   NaN  ...   \n",
       "-9223304194009471738                   NaN                   NaN  ...   \n",
       "-9222886279178806123                   NaN                   NaN  ...   \n",
       "-9222866561410264378                   NaN                   NaN  ...   \n",
       "-9222732293397718434                   NaN                   NaN  ...   \n",
       "\n",
       "business_id            9205594944577506285   9209806749732561023  \\\n",
       "user_id                                                            \n",
       "-9223359662055357883                   NaN                   NaN   \n",
       "-9223304194009471738                   NaN                   NaN   \n",
       "-9222886279178806123                   NaN                   NaN   \n",
       "-9222866561410264378                   NaN                   NaN   \n",
       "-9222732293397718434                   NaN                   NaN   \n",
       "\n",
       "business_id            9213077406576584359   9214010492506917922  \\\n",
       "user_id                                                            \n",
       "-9223359662055357883                   NaN                   NaN   \n",
       "-9223304194009471738                   NaN                   NaN   \n",
       "-9222886279178806123                   NaN                   NaN   \n",
       "-9222866561410264378                   NaN                   NaN   \n",
       "-9222732293397718434                   NaN                   NaN   \n",
       "\n",
       "business_id            9214539254584928025   9215038036734564861  \\\n",
       "user_id                                                            \n",
       "-9223359662055357883                   NaN                   NaN   \n",
       "-9223304194009471738                   NaN                   NaN   \n",
       "-9222886279178806123                   NaN                   NaN   \n",
       "-9222866561410264378                   NaN                   NaN   \n",
       "-9222732293397718434                   NaN                   NaN   \n",
       "\n",
       "business_id            9217085367176827986   9217959426814947615  \\\n",
       "user_id                                                            \n",
       "-9223359662055357883                   NaN                   NaN   \n",
       "-9223304194009471738                   NaN                   NaN   \n",
       "-9222886279178806123                   NaN                   NaN   \n",
       "-9222866561410264378                   NaN                   NaN   \n",
       "-9222732293397718434                   NaN                   NaN   \n",
       "\n",
       "business_id            9218019321615823294   9219566919259808181  \n",
       "user_id                                                           \n",
       "-9223359662055357883                   NaN                   NaN  \n",
       "-9223304194009471738                   NaN                   NaN  \n",
       "-9222886279178806123                   NaN                   NaN  \n",
       "-9222866561410264378                   NaN                   NaN  \n",
       "-9222732293397718434                   NaN                   NaN  \n",
       "\n",
       "[5 rows x 15306 columns]"
      ]
     },
     "execution_count": 23,
     "metadata": {},
     "output_type": "execute_result"
    }
   ],
   "source": [
    "\n",
    "final = pd.pivot_table(Rating_avg,values='adg_rating',index='user_id',columns='business_id')\n",
    "final.head()\n"
   ]
  },
  {
   "cell_type": "markdown",
   "metadata": {
    "colab_type": "text",
    "id": "jGwXhcq5pZa1"
   },
   "source": [
    "final df contains some lots of NaN value since every user has not seen all the movies and that’s the reason this type of matrix is called sparse matrix. "
   ]
  },
  {
   "cell_type": "code",
   "execution_count": 24,
   "metadata": {
    "colab": {},
    "colab_type": "code",
    "id": "Bj5C8yWzpZa2"
   },
   "outputs": [],
   "source": [
    "# Replacing NaN by business Average\n",
    "final_business = final.fillna(final.mean(axis=0))\n",
    "# Since most of the business have ratings\n",
    "\n",
    "# Replacing NaN by user Average\n",
    "#final_user = final.apply(lambda row: row.fillna(row.mean()), axis=1)"
   ]
  },
  {
   "cell_type": "code",
   "execution_count": 25,
   "metadata": {
    "colab": {},
    "colab_type": "code",
    "id": "0Yr1RGkdpZa4"
   },
   "outputs": [
    {
     "data": {
      "text/html": [
       "<div>\n",
       "<style scoped>\n",
       "    .dataframe tbody tr th:only-of-type {\n",
       "        vertical-align: middle;\n",
       "    }\n",
       "\n",
       "    .dataframe tbody tr th {\n",
       "        vertical-align: top;\n",
       "    }\n",
       "\n",
       "    .dataframe thead th {\n",
       "        text-align: right;\n",
       "    }\n",
       "</style>\n",
       "<table border=\"1\" class=\"dataframe\">\n",
       "  <thead>\n",
       "    <tr style=\"text-align: right;\">\n",
       "      <th>business_id</th>\n",
       "      <th>-9222041889850809589</th>\n",
       "      <th>-9221522642467167166</th>\n",
       "      <th>-9220134465678092017</th>\n",
       "      <th>-9219285732096988637</th>\n",
       "      <th>-9217078650247886585</th>\n",
       "      <th>-9216768140510465531</th>\n",
       "      <th>-9216236901169976752</th>\n",
       "      <th>-9214274581796385693</th>\n",
       "      <th>-9213885022387420556</th>\n",
       "      <th>-9212047259814140719</th>\n",
       "      <th>...</th>\n",
       "      <th>9205594944577506285</th>\n",
       "      <th>9209806749732561023</th>\n",
       "      <th>9213077406576584359</th>\n",
       "      <th>9214010492506917922</th>\n",
       "      <th>9214539254584928025</th>\n",
       "      <th>9215038036734564861</th>\n",
       "      <th>9217085367176827986</th>\n",
       "      <th>9217959426814947615</th>\n",
       "      <th>9218019321615823294</th>\n",
       "      <th>9219566919259808181</th>\n",
       "    </tr>\n",
       "    <tr>\n",
       "      <th>user_id</th>\n",
       "      <th></th>\n",
       "      <th></th>\n",
       "      <th></th>\n",
       "      <th></th>\n",
       "      <th></th>\n",
       "      <th></th>\n",
       "      <th></th>\n",
       "      <th></th>\n",
       "      <th></th>\n",
       "      <th></th>\n",
       "      <th></th>\n",
       "      <th></th>\n",
       "      <th></th>\n",
       "      <th></th>\n",
       "      <th></th>\n",
       "      <th></th>\n",
       "      <th></th>\n",
       "      <th></th>\n",
       "      <th></th>\n",
       "      <th></th>\n",
       "      <th></th>\n",
       "    </tr>\n",
       "  </thead>\n",
       "  <tbody>\n",
       "    <tr>\n",
       "      <td>-9223359662055357883</td>\n",
       "      <td>0.0</td>\n",
       "      <td>0.0</td>\n",
       "      <td>0.0</td>\n",
       "      <td>0.0</td>\n",
       "      <td>0.0</td>\n",
       "      <td>0.1875</td>\n",
       "      <td>-0.166667</td>\n",
       "      <td>-0.125</td>\n",
       "      <td>0.0</td>\n",
       "      <td>0.133333</td>\n",
       "      <td>...</td>\n",
       "      <td>0.75</td>\n",
       "      <td>0.466667</td>\n",
       "      <td>-0.148148</td>\n",
       "      <td>-1.0</td>\n",
       "      <td>0.0</td>\n",
       "      <td>0.0</td>\n",
       "      <td>-2.0</td>\n",
       "      <td>0.0</td>\n",
       "      <td>0.055556</td>\n",
       "      <td>0.142857</td>\n",
       "    </tr>\n",
       "    <tr>\n",
       "      <td>-9223304194009471738</td>\n",
       "      <td>0.0</td>\n",
       "      <td>0.0</td>\n",
       "      <td>0.0</td>\n",
       "      <td>0.0</td>\n",
       "      <td>0.0</td>\n",
       "      <td>0.1875</td>\n",
       "      <td>-0.166667</td>\n",
       "      <td>-0.125</td>\n",
       "      <td>0.0</td>\n",
       "      <td>0.133333</td>\n",
       "      <td>...</td>\n",
       "      <td>0.75</td>\n",
       "      <td>0.466667</td>\n",
       "      <td>-0.148148</td>\n",
       "      <td>-1.0</td>\n",
       "      <td>0.0</td>\n",
       "      <td>0.0</td>\n",
       "      <td>-2.0</td>\n",
       "      <td>0.0</td>\n",
       "      <td>0.055556</td>\n",
       "      <td>0.142857</td>\n",
       "    </tr>\n",
       "    <tr>\n",
       "      <td>-9222886279178806123</td>\n",
       "      <td>0.0</td>\n",
       "      <td>0.0</td>\n",
       "      <td>0.0</td>\n",
       "      <td>0.0</td>\n",
       "      <td>0.0</td>\n",
       "      <td>0.1875</td>\n",
       "      <td>-0.166667</td>\n",
       "      <td>-0.125</td>\n",
       "      <td>0.0</td>\n",
       "      <td>0.133333</td>\n",
       "      <td>...</td>\n",
       "      <td>0.75</td>\n",
       "      <td>0.466667</td>\n",
       "      <td>-0.148148</td>\n",
       "      <td>-1.0</td>\n",
       "      <td>0.0</td>\n",
       "      <td>0.0</td>\n",
       "      <td>-2.0</td>\n",
       "      <td>0.0</td>\n",
       "      <td>0.055556</td>\n",
       "      <td>0.142857</td>\n",
       "    </tr>\n",
       "    <tr>\n",
       "      <td>-9222866561410264378</td>\n",
       "      <td>0.0</td>\n",
       "      <td>0.0</td>\n",
       "      <td>0.0</td>\n",
       "      <td>0.0</td>\n",
       "      <td>0.0</td>\n",
       "      <td>0.1875</td>\n",
       "      <td>-0.166667</td>\n",
       "      <td>-0.125</td>\n",
       "      <td>0.0</td>\n",
       "      <td>0.133333</td>\n",
       "      <td>...</td>\n",
       "      <td>0.75</td>\n",
       "      <td>0.466667</td>\n",
       "      <td>-0.148148</td>\n",
       "      <td>-1.0</td>\n",
       "      <td>0.0</td>\n",
       "      <td>0.0</td>\n",
       "      <td>-2.0</td>\n",
       "      <td>0.0</td>\n",
       "      <td>0.055556</td>\n",
       "      <td>0.142857</td>\n",
       "    </tr>\n",
       "    <tr>\n",
       "      <td>-9222732293397718434</td>\n",
       "      <td>0.0</td>\n",
       "      <td>0.0</td>\n",
       "      <td>0.0</td>\n",
       "      <td>0.0</td>\n",
       "      <td>0.0</td>\n",
       "      <td>0.1875</td>\n",
       "      <td>-0.166667</td>\n",
       "      <td>-0.125</td>\n",
       "      <td>0.0</td>\n",
       "      <td>0.133333</td>\n",
       "      <td>...</td>\n",
       "      <td>0.75</td>\n",
       "      <td>0.466667</td>\n",
       "      <td>-0.148148</td>\n",
       "      <td>-1.0</td>\n",
       "      <td>0.0</td>\n",
       "      <td>0.0</td>\n",
       "      <td>-2.0</td>\n",
       "      <td>0.0</td>\n",
       "      <td>0.055556</td>\n",
       "      <td>0.142857</td>\n",
       "    </tr>\n",
       "  </tbody>\n",
       "</table>\n",
       "<p>5 rows × 15306 columns</p>\n",
       "</div>"
      ],
      "text/plain": [
       "business_id           -9222041889850809589  -9221522642467167166  \\\n",
       "user_id                                                            \n",
       "-9223359662055357883                   0.0                   0.0   \n",
       "-9223304194009471738                   0.0                   0.0   \n",
       "-9222886279178806123                   0.0                   0.0   \n",
       "-9222866561410264378                   0.0                   0.0   \n",
       "-9222732293397718434                   0.0                   0.0   \n",
       "\n",
       "business_id           -9220134465678092017  -9219285732096988637  \\\n",
       "user_id                                                            \n",
       "-9223359662055357883                   0.0                   0.0   \n",
       "-9223304194009471738                   0.0                   0.0   \n",
       "-9222886279178806123                   0.0                   0.0   \n",
       "-9222866561410264378                   0.0                   0.0   \n",
       "-9222732293397718434                   0.0                   0.0   \n",
       "\n",
       "business_id           -9217078650247886585  -9216768140510465531  \\\n",
       "user_id                                                            \n",
       "-9223359662055357883                   0.0                0.1875   \n",
       "-9223304194009471738                   0.0                0.1875   \n",
       "-9222886279178806123                   0.0                0.1875   \n",
       "-9222866561410264378                   0.0                0.1875   \n",
       "-9222732293397718434                   0.0                0.1875   \n",
       "\n",
       "business_id           -9216236901169976752  -9214274581796385693  \\\n",
       "user_id                                                            \n",
       "-9223359662055357883             -0.166667                -0.125   \n",
       "-9223304194009471738             -0.166667                -0.125   \n",
       "-9222886279178806123             -0.166667                -0.125   \n",
       "-9222866561410264378             -0.166667                -0.125   \n",
       "-9222732293397718434             -0.166667                -0.125   \n",
       "\n",
       "business_id           -9213885022387420556  -9212047259814140719  ...  \\\n",
       "user_id                                                           ...   \n",
       "-9223359662055357883                   0.0              0.133333  ...   \n",
       "-9223304194009471738                   0.0              0.133333  ...   \n",
       "-9222886279178806123                   0.0              0.133333  ...   \n",
       "-9222866561410264378                   0.0              0.133333  ...   \n",
       "-9222732293397718434                   0.0              0.133333  ...   \n",
       "\n",
       "business_id            9205594944577506285   9209806749732561023  \\\n",
       "user_id                                                            \n",
       "-9223359662055357883                  0.75              0.466667   \n",
       "-9223304194009471738                  0.75              0.466667   \n",
       "-9222886279178806123                  0.75              0.466667   \n",
       "-9222866561410264378                  0.75              0.466667   \n",
       "-9222732293397718434                  0.75              0.466667   \n",
       "\n",
       "business_id            9213077406576584359   9214010492506917922  \\\n",
       "user_id                                                            \n",
       "-9223359662055357883             -0.148148                  -1.0   \n",
       "-9223304194009471738             -0.148148                  -1.0   \n",
       "-9222886279178806123             -0.148148                  -1.0   \n",
       "-9222866561410264378             -0.148148                  -1.0   \n",
       "-9222732293397718434             -0.148148                  -1.0   \n",
       "\n",
       "business_id            9214539254584928025   9215038036734564861  \\\n",
       "user_id                                                            \n",
       "-9223359662055357883                   0.0                   0.0   \n",
       "-9223304194009471738                   0.0                   0.0   \n",
       "-9222886279178806123                   0.0                   0.0   \n",
       "-9222866561410264378                   0.0                   0.0   \n",
       "-9222732293397718434                   0.0                   0.0   \n",
       "\n",
       "business_id            9217085367176827986   9217959426814947615  \\\n",
       "user_id                                                            \n",
       "-9223359662055357883                  -2.0                   0.0   \n",
       "-9223304194009471738                  -2.0                   0.0   \n",
       "-9222886279178806123                  -2.0                   0.0   \n",
       "-9222866561410264378                  -2.0                   0.0   \n",
       "-9222732293397718434                  -2.0                   0.0   \n",
       "\n",
       "business_id            9218019321615823294   9219566919259808181  \n",
       "user_id                                                           \n",
       "-9223359662055357883              0.055556              0.142857  \n",
       "-9223304194009471738              0.055556              0.142857  \n",
       "-9222886279178806123              0.055556              0.142857  \n",
       "-9222866561410264378              0.055556              0.142857  \n",
       "-9222732293397718434              0.055556              0.142857  \n",
       "\n",
       "[5 rows x 15306 columns]"
      ]
     },
     "execution_count": 25,
     "metadata": {},
     "output_type": "execute_result"
    }
   ],
   "source": [
    "final_business.head()"
   ]
  },
  {
   "cell_type": "code",
   "execution_count": 26,
   "metadata": {
    "colab": {},
    "colab_type": "code",
    "id": "mM59f4BupZa5"
   },
   "outputs": [],
   "source": [
    "#final_user.head()"
   ]
  },
  {
   "cell_type": "markdown",
   "metadata": {
    "colab_type": "text",
    "id": "7yC-Uym1pZa7"
   },
   "source": [
    "## calculate the similarity between the users"
   ]
  },
  {
   "cell_type": "code",
   "execution_count": 27,
   "metadata": {
    "colab": {},
    "colab_type": "code",
    "id": "9Q9WB5qSpZa7"
   },
   "outputs": [],
   "source": [
    "# user similarity on replacing NAN by user avg\n",
    "\n",
    "# b = cosine_similarity(final_business)\n",
    "# np.fill_diagonal(b, 0 )\n",
    "# similarity_with_user = pd.DataFrame(b,index=final_user.index)\n",
    "# similarity_with_user.columns=final_user.index\n",
    "# similarity_with_user.head()"
   ]
  },
  {
   "cell_type": "code",
   "execution_count": null,
   "metadata": {
    "colab": {},
    "colab_type": "code",
    "id": "5V8TA30ppZa9"
   },
   "outputs": [],
   "source": [
    "# user similarity on replacing NAN by item(business) avg\n",
    "cosine = cosine_similarity(final_business)\n",
    "np.fill_diagonal(cosine, 0 )\n",
    "similarity_with_business = pd.DataFrame(cosine,index=final_business.index)\n",
    "similarity_with_business.columns=final_business.index\n",
    "similarity_with_business.head()"
   ]
  },
  {
   "cell_type": "markdown",
   "metadata": {
    "colab_type": "text",
    "id": "tMduVoVtpZa_"
   },
   "source": [
    "## KNN\n",
    "calculating the score for any item it would not be a good solution or method to look at all the other users all the time. Hence to overcome this we generate a notion of neighborhood. This includes only the set of (K) similar users for a particular user."
   ]
  },
  {
   "cell_type": "code",
   "execution_count": null,
   "metadata": {
    "colab": {},
    "colab_type": "code",
    "id": "B85kHm1ppZa_"
   },
   "outputs": [],
   "source": [
    "def find_n_neighbours(df,n):\n",
    "    order = np.argsort(df.values, axis=1)[:, :n]\n",
    "    df = df.apply(lambda x: pd.Series(x.sort_values(ascending=False)\n",
    "           .iloc[:n].index, \n",
    "          index=['top{}'.format(i) for i in range(1, n+1)]), axis=1)\n",
    "    return df"
   ]
  },
  {
   "cell_type": "code",
   "execution_count": null,
   "metadata": {
    "colab": {},
    "colab_type": "code",
    "id": "eNtdQ-REpZbB"
   },
   "outputs": [],
   "source": [
    "# top 30 neighbours for each user\n",
    "sim_user_30_b = find_n_neighbours(similarity_with_business,30)\n",
    "sim_user_30_b.head()"
   ]
  },
  {
   "cell_type": "code",
   "execution_count": null,
   "metadata": {
    "colab": {},
    "colab_type": "code",
    "id": "JbVyQmLypZbC"
   },
   "outputs": [],
   "source": [
    "def User_item_score(user,item):\n",
    "    a = sim_user_30_b[sim_user_30_b.index==user].values\n",
    "    b = a.squeeze().tolist()\n",
    "    c = final_movie.loc[:,item]\n",
    "    d = c[c.index.isin(b)]\n",
    "    f = d[d.notnull()]\n",
    "    avg_user = Mean.loc[Mean['user_id'] == user,'stars'].values[0]\n",
    "    index = f.index.values.squeeze().tolist()\n",
    "    corr = similarity_with_business.loc[user,index]\n",
    "    fin = pd.concat([f, corr], axis=1)\n",
    "    fin.columns = ['adg_score','correlation']\n",
    "    fin['score']=fin.apply(lambda x:x['adg_score'] * x['correlation'],axis=1)\n",
    "    nume = fin['score'].sum()\n",
    "    deno = fin['correlation'].sum()\n",
    "    final_score = avg_user + (nume/deno)\n",
    "    return final_score"
   ]
  },
  {
   "cell_type": "code",
   "execution_count": null,
   "metadata": {
    "colab": {},
    "colab_type": "code",
    "id": "ryjhUkFTpZbD"
   },
   "outputs": [],
   "source": []
  },
  {
   "cell_type": "code",
   "execution_count": null,
   "metadata": {
    "colab": {},
    "colab_type": "code",
    "id": "ujd3JM_fpZbF"
   },
   "outputs": [],
   "source": [
    "Rating_avg = Rating_avg.astype({\"business_id\": str})\n",
    "Movie_user = Rating_avg.groupby(by = 'user_id')['business_id'].apply(lambda x:','.join(x))"
   ]
  },
  {
   "cell_type": "code",
   "execution_count": null,
   "metadata": {
    "colab": {},
    "colab_type": "code",
    "id": "Xp8OiOKUpZbG"
   },
   "outputs": [],
   "source": [
    "def User_item_score1(user):\n",
    "    Movie_seen_by_user = check.columns[check[check.index==user].notna().any()].tolist()\n",
    "    a = sim_user_30_b[sim_user_30_b.index==user].values\n",
    "    b = a.squeeze().tolist()\n",
    "    d = Movie_user[Movie_user.index.isin(b)]\n",
    "    l = ','.join(d.values)\n",
    "    Movie_seen_by_similar_users = l.split(',')\n",
    "    Movies_under_consideration = list(set(Movie_seen_by_similar_users)-set(list(map(str, Movie_seen_by_user))))\n",
    "    Movies_under_consideration = list(map(int, Movies_under_consideration))\n",
    "    score = []\n",
    "    for item in Movies_under_consideration:\n",
    "        c = final_business.loc[:,item]\n",
    "        d = c[c.index.isin(b)]\n",
    "        f = d[d.notnull()]\n",
    "        avg_user = Mean.loc[Mean['user_id'] == user,'stars'].values[0]\n",
    "        index = f.index.values.squeeze().tolist()\n",
    "        corr = similarity_with_business.loc[user,index]\n",
    "        fin = pd.concat([f, corr], axis=1)\n",
    "        fin.columns = ['adg_score','correlation']\n",
    "        fin['score']=fin.apply(lambda x:x['adg_score'] * x['correlation'],axis=1)\n",
    "        nume = fin['score'].sum()\n",
    "        deno = fin['correlation'].sum()\n",
    "        final_score = avg_user + (nume/deno)\n",
    "        score.append(final_score)\n",
    "    data = pd.DataFrame({'business_id':Movies_under_consideration,'score':score})\n",
    "    top_5_recommendation = data.sort_values(by='score',ascending=False).head(5)\n",
    "    Movie_Name = top_5_recommendation.merge(business, how='inner', on='business_id')\n",
    "    Movie_Names = Movie_Name.title.values.tolist()\n",
    "    return Movie_Names"
   ]
  },
  {
   "cell_type": "code",
   "execution_count": null,
   "metadata": {
    "colab": {},
    "colab_type": "code",
    "id": "VP6kOcEjpZbH"
   },
   "outputs": [],
   "source": [
    "user = int(input(\"Enter the user id to whom you want to recommend : \"))\n",
    "predicted_movies = User_item_score1(user)\n",
    "print(\" \")\n",
    "print(\"The Recommendations for this user\")\n",
    "print(\"   \")\n",
    "for i in predicted_movies:\n",
    "    print(i)\n"
   ]
  },
  {
   "cell_type": "code",
   "execution_count": null,
   "metadata": {
    "colab": {},
    "colab_type": "code",
    "id": "Krsp0AqKpZbK"
   },
   "outputs": [],
   "source": [
    "3002164458318600832\t"
   ]
  },
  {
   "cell_type": "markdown",
   "metadata": {
    "colab_type": "text",
    "id": "vo05wXeGpZbM"
   },
   "source": [
    "Enter the user id to whom you want to recommend : 3002164458318600832\n",
    " \n",
    "The Recommendations for this user\n",
    "   \n",
    "La Flor de Michoacan Ice Cream Shop\n",
    "Beach Cafe\n",
    "Island Flavor\n",
    "Women's Specialty Care\n",
    "Tahiti Village"
   ]
  }
 ],
 "metadata": {
  "colab": {
   "collapsed_sections": [
    "7yC-Uym1pZa7"
   ],
   "name": "User-Based CF.ipynb",
   "provenance": []
  },
  "kernelspec": {
   "display_name": "Python 3",
   "language": "python",
   "name": "python3"
  },
  "language_info": {
   "codemirror_mode": {
    "name": "ipython",
    "version": 3
   },
   "file_extension": ".py",
   "mimetype": "text/x-python",
   "name": "python",
   "nbconvert_exporter": "python",
   "pygments_lexer": "ipython3",
   "version": "3.7.3"
  }
 },
 "nbformat": 4,
 "nbformat_minor": 1
}
